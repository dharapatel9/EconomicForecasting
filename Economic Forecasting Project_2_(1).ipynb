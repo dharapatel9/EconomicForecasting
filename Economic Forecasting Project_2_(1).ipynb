{
  "nbformat": 4,
  "nbformat_minor": 0,
  "metadata": {
    "colab": {
      "name": "Project 2 (1).ipynb",
      "provenance": [],
      "collapsed_sections": [],
      "include_colab_link": true
    },
    "kernelspec": {
      "name": "python3",
      "display_name": "Python 3"
    },
    "language_info": {
      "name": "python"
    }
  },
  "cells": [
    {
      "cell_type": "markdown",
      "metadata": {
        "id": "view-in-github",
        "colab_type": "text"
      },
      "source": [
        "<a href=\"https://colab.research.google.com/github/dharapatel9/EconomicForecasting/blob/main/Economic%20Forecasting%20Project_2_(1).ipynb\" target=\"_parent\"><img src=\"https://colab.research.google.com/assets/colab-badge.svg\" alt=\"Open In Colab\"/></a>"
      ]
    },
    {
      "cell_type": "markdown",
      "metadata": {
        "id": "LbNc4_snDRrW"
      },
      "source": [
        "#Project 2\n",
        "Instructions: \n",
        "- Please read the project description before your start.\n",
        "- To save a copy of your ipython notebook: click ```File -> Download .ipyhon```\n",
        "- Write your code in the code cells below each Step description. You may add extra cells if needed.\n"
      ]
    },
    {
      "cell_type": "code",
      "metadata": {
        "id": "mXWFR1pGKLBZ",
        "colab": {
          "base_uri": "https://localhost:8080/"
        },
        "outputId": "5fa387b3-941f-46ea-c5e1-568ffb525177"
      },
      "source": [
        "# Run this cell as the first step to make sure we use the most updated version of statsmodels in python\n",
        "# If it fails to import the latest version, try click Runtime -> Restart runtime and start from here again\n",
        "!pip install statsmodels==0.12.0\n",
        "import statsmodels"
      ],
      "execution_count": null,
      "outputs": [
        {
          "output_type": "stream",
          "text": [
            "Requirement already satisfied: statsmodels==0.12.0 in /usr/local/lib/python3.7/dist-packages (0.12.0)\n",
            "Requirement already satisfied: numpy>=1.15 in /usr/local/lib/python3.7/dist-packages (from statsmodels==0.12.0) (1.19.5)\n",
            "Requirement already satisfied: scipy>=1.1 in /usr/local/lib/python3.7/dist-packages (from statsmodels==0.12.0) (1.4.1)\n",
            "Requirement already satisfied: patsy>=0.5 in /usr/local/lib/python3.7/dist-packages (from statsmodels==0.12.0) (0.5.1)\n",
            "Requirement already satisfied: pandas>=0.21 in /usr/local/lib/python3.7/dist-packages (from statsmodels==0.12.0) (1.1.5)\n",
            "Requirement already satisfied: six in /usr/local/lib/python3.7/dist-packages (from patsy>=0.5->statsmodels==0.12.0) (1.15.0)\n",
            "Requirement already satisfied: python-dateutil>=2.7.3 in /usr/local/lib/python3.7/dist-packages (from pandas>=0.21->statsmodels==0.12.0) (2.8.1)\n",
            "Requirement already satisfied: pytz>=2017.2 in /usr/local/lib/python3.7/dist-packages (from pandas>=0.21->statsmodels==0.12.0) (2018.9)\n"
          ],
          "name": "stdout"
        }
      ]
    },
    {
      "cell_type": "code",
      "metadata": {
        "id": "_A34OWSyDK2m",
        "colab": {
          "base_uri": "https://localhost:8080/"
        },
        "outputId": "86ad6651-b411-48c6-883c-a0662677e5f4"
      },
      "source": [
        "import numpy as np\n",
        "import pandas as pd\n",
        "import datetime\n",
        "import matplotlib.pyplot as plt\n",
        "import statsmodels.api as sm\n",
        "from statsmodels.tsa.arima.model import ARIMA\n",
        "from statsmodels.graphics.tsaplots import plot_acf, plot_pacf\n",
        "from scipy import stats\n",
        "\n",
        "!pip install arch\n",
        "from arch import arch_model"
      ],
      "execution_count": null,
      "outputs": [
        {
          "output_type": "stream",
          "text": [
            "Requirement already satisfied: arch in /usr/local/lib/python3.7/dist-packages (4.19)\n",
            "Requirement already satisfied: scipy>=1.2.3 in /usr/local/lib/python3.7/dist-packages (from arch) (1.4.1)\n",
            "Requirement already satisfied: pandas>=0.23 in /usr/local/lib/python3.7/dist-packages (from arch) (1.1.5)\n",
            "Requirement already satisfied: cython>=0.29.14 in /usr/local/lib/python3.7/dist-packages (from arch) (0.29.22)\n",
            "Requirement already satisfied: numpy>=1.14 in /usr/local/lib/python3.7/dist-packages (from arch) (1.19.5)\n",
            "Requirement already satisfied: statsmodels>=0.10 in /usr/local/lib/python3.7/dist-packages (from arch) (0.12.0)\n",
            "Requirement already satisfied: property-cached>=1.6.4 in /usr/local/lib/python3.7/dist-packages (from arch) (1.6.4)\n",
            "Requirement already satisfied: pytz>=2017.2 in /usr/local/lib/python3.7/dist-packages (from pandas>=0.23->arch) (2018.9)\n",
            "Requirement already satisfied: python-dateutil>=2.7.3 in /usr/local/lib/python3.7/dist-packages (from pandas>=0.23->arch) (2.8.1)\n",
            "Requirement already satisfied: patsy>=0.5 in /usr/local/lib/python3.7/dist-packages (from statsmodels>=0.10->arch) (0.5.1)\n",
            "Requirement already satisfied: six>=1.5 in /usr/local/lib/python3.7/dist-packages (from python-dateutil>=2.7.3->pandas>=0.23->arch) (1.15.0)\n"
          ],
          "name": "stdout"
        }
      ]
    },
    {
      "cell_type": "markdown",
      "metadata": {
        "id": "tKiRMwy5FB1j"
      },
      "source": [
        "## Modeling volatility using US Dollar / Australian Dollar exchange rate data\n",
        "Step 1: import data from Github\n",
        "- Check to see that DataFrame usdaud a column ```USDAUD```, which is the USD/AUD exchange rate\n",
        "- The sample is daily and covers the period from Jan 2, 2001 to Oct 14, 2004"
      ]
    },
    {
      "cell_type": "code",
      "metadata": {
        "id": "318mTjDnEy--",
        "colab": {
          "base_uri": "https://localhost:8080/",
          "height": 197
        },
        "outputId": "bb2d7bb1-9a7f-4a44-95ae-d2a4a47a2647"
      },
      "source": [
        "usdaud = pd.read_csv('https://raw.githubusercontent.com/shihanxie/Econ475/main/data/usdaud.csv', \n",
        "                     na_values = '.', dtype={'USDAUD': np.float})\n",
        "usdaud.index = pd.date_range(start='2001-01-02', periods= usdaud.shape[0], freq='D')\n",
        "usdaud.head()"
      ],
      "execution_count": null,
      "outputs": [
        {
          "output_type": "execute_result",
          "data": {
            "text/html": [
              "<div>\n",
              "<style scoped>\n",
              "    .dataframe tbody tr th:only-of-type {\n",
              "        vertical-align: middle;\n",
              "    }\n",
              "\n",
              "    .dataframe tbody tr th {\n",
              "        vertical-align: top;\n",
              "    }\n",
              "\n",
              "    .dataframe thead th {\n",
              "        text-align: right;\n",
              "    }\n",
              "</style>\n",
              "<table border=\"1\" class=\"dataframe\">\n",
              "  <thead>\n",
              "    <tr style=\"text-align: right;\">\n",
              "      <th></th>\n",
              "      <th>USDAUD</th>\n",
              "    </tr>\n",
              "  </thead>\n",
              "  <tbody>\n",
              "    <tr>\n",
              "      <th>2001-01-02</th>\n",
              "      <td>0.5592</td>\n",
              "    </tr>\n",
              "    <tr>\n",
              "      <th>2001-01-03</th>\n",
              "      <td>0.5635</td>\n",
              "    </tr>\n",
              "    <tr>\n",
              "      <th>2001-01-04</th>\n",
              "      <td>0.5655</td>\n",
              "    </tr>\n",
              "    <tr>\n",
              "      <th>2001-01-05</th>\n",
              "      <td>0.5712</td>\n",
              "    </tr>\n",
              "    <tr>\n",
              "      <th>2001-01-06</th>\n",
              "      <td>0.5660</td>\n",
              "    </tr>\n",
              "  </tbody>\n",
              "</table>\n",
              "</div>"
            ],
            "text/plain": [
              "            USDAUD\n",
              "2001-01-02  0.5592\n",
              "2001-01-03  0.5635\n",
              "2001-01-04  0.5655\n",
              "2001-01-05  0.5712\n",
              "2001-01-06  0.5660"
            ]
          },
          "metadata": {
            "tags": []
          },
          "execution_count": 19
        }
      ]
    },
    {
      "cell_type": "markdown",
      "metadata": {
        "id": "kCS1NN0aRIJG"
      },
      "source": [
        "Step 2: Compute and plot the first difference of the log(exchange rate), or $\\Delta \\log(usdaud_t) \\times 100$. From now on, we will use $y_t$ to refer $\\Delta \\log(usdaud_t) \\times 100$, which is the daily percentage change in USD/AUD exchange rate.\n",
        "\n",
        "Hint: use ```np.log(var).diff()``` to compute the first difference of the log of ```var```."
      ]
    },
    {
      "cell_type": "code",
      "metadata": {
        "id": "iNUfA0-e_DjR",
        "colab": {
          "base_uri": "https://localhost:8080/",
          "height": 391
        },
        "outputId": "410f4d53-4502-428d-b4bf-2c3d0613f6c8"
      },
      "source": [
        "usdaud['y_t'] = np.log(usdaud['USDAUD']*100).diff()\n",
        "\n",
        "plt.figure(figsize=(10,6))\n",
        "plt.plot(usdaud['y_t'])\n",
        "ax = plt.gca()\n",
        "ax.set_ylabel('percentage change in aud/usd Rate', fontsize = 'large')\n",
        "ax.set_xlabel('date', fontsize = 'large')\n",
        "plt.show()\n"
      ],
      "execution_count": null,
      "outputs": [
        {
          "output_type": "display_data",
          "data": {
            "image/png": "[encoded data removed]",
            "text/plain": [
              "<Figure size 720x432 with 1 Axes>"
            ]
          },
          "metadata": {
            "tags": [],
            "needs_background": "light"
          }
        }
      ]
    },
    {
      "cell_type": "markdown",
      "metadata": {
        "id": "5MnNAfD0SBq5"
      },
      "source": [
        "Step 3: Plot the histogram and compute the descriptive statistics of $y_t$. Conduct the proper test to see if it is normally distributed."
      ]
    },
    {
      "cell_type": "code",
      "metadata": {
        "id": "AOCGb46w_DIi",
        "colab": {
          "base_uri": "https://localhost:8080/",
          "height": 495
        },
        "outputId": "def8cdf7-96ab-4eff-cafd-3825cd7d3cb4"
      },
      "source": [
        "_,bins,_ = plt.hist(usdaud['y_t'],density = 1, bins=100)\n",
        "plt.show()\n",
        "print(usdaud['y_t'].describe())\n",
        "print('Skewness: ', usdaud['y_t'].skew())\n",
        "print('Kurtosis: ', usdaud['y_t'].kurt())\n",
        "print('Jarque-Bera test statistic is: ', stats.jarque_bera(usdaud['y_t'].dropna())[0])\n",
        "print('Jarque-Bera test p-value is: ', stats.jarque_bera(usdaud['y_t'].dropna())[1])"
      ],
      "execution_count": null,
      "outputs": [
        {
          "output_type": "display_data",
          "data": {
            "image/png": "[encoded data removed]",
            "text/plain": [
              "<Figure size 432x288 with 1 Axes>"
            ]
          },
          "metadata": {
            "tags": [],
            "needs_background": "light"
          }
        },
        {
          "output_type": "stream",
          "text": [
            "count    1381.000000\n",
            "mean        0.000205\n",
            "std         0.006999\n",
            "min        -0.035291\n",
            "25%        -0.003773\n",
            "50%         0.000366\n",
            "75%         0.004633\n",
            "max         0.023646\n",
            "Name: y_t, dtype: float64\n",
            "Skewness:  -0.4365038830558965\n",
            "Kurtosis:  1.3804256502583216\n",
            "Jarque-Bera test statistic is:  151.9317835684659\n",
            "Jarque-Bera test p-value is:  0.0\n"
          ],
          "name": "stdout"
        }
      ]
    },
    {
      "cell_type": "markdown",
      "metadata": {
        "id": "P1_4SVnhZt6f"
      },
      "source": [
        "Step 4: Compare the historgram of $y_t$ to a normal distribution."
      ]
    },
    {
      "cell_type": "code",
      "metadata": {
        "id": "mzoJLWIZ_CxK",
        "colab": {
          "base_uri": "https://localhost:8080/",
          "height": 264
        },
        "outputId": "e8e25bb8-5822-4417-dab2-3db5c17bc051"
      },
      "source": [
        "mu, sigma = stats.norm.fit(usdaud['y_t'].dropna())\n",
        "best_fit_line = stats.norm.pdf(bins, mu, sigma)\n",
        "plt.hist(usdaud['y_t'],density = 1, bins=100)\n",
        "plt.plot(bins, best_fit_line)\n",
        "plt.show()"
      ],
      "execution_count": null,
      "outputs": [
        {
          "output_type": "display_data",
          "data": {
            "image/png": "[encoded data removed]",
            "text/plain": [
              "<Figure size 432x288 with 1 Axes>"
            ]
          },
          "metadata": {
            "tags": [],
            "needs_background": "light"
          }
        }
      ]
    },
    {
      "cell_type": "markdown",
      "metadata": {
        "id": "tq0ccBZvZ8T5"
      },
      "source": [
        "Step 5: Compute the correlogram of squared $y_t$ up to 12 lags."
      ]
    },
    {
      "cell_type": "code",
      "metadata": {
        "id": "QS_XO2rj_CV6",
        "colab": {
          "base_uri": "https://localhost:8080/",
          "height": 544
        },
        "outputId": "75eb6ebb-74c3-4f31-dfeb-69c75f547ff3"
      },
      "source": [
        "usdaud['y_t_2'] = usdaud['y_t'] ** 2\n",
        "usdaud.head()\n",
        "\n",
        "plot_acf(usdaud['y_t'].dropna())\n",
        "plot_pacf(usdaud['y_t'].dropna())\n",
        "plt.show()"
      ],
      "execution_count": null,
      "outputs": [
        {
          "output_type": "display_data",
          "data": {
            "image/png": "[encoded data removed]",
            "text/plain": [
              "<Figure size 432x288 with 1 Axes>"
            ]
          },
          "metadata": {
            "tags": [],
            "needs_background": "light"
          }
        },
        {
          "output_type": "display_data",
          "data": {
            "image/png": "[encoded data removed]",
            "text/plain": [
              "<Figure size 432x288 with 1 Axes>"
            ]
          },
          "metadata": {
            "tags": [],
            "needs_background": "light"
          }
        }
      ]
    },
    {
      "cell_type": "markdown",
      "metadata": {
        "id": "4N7TETAvaZGB"
      },
      "source": [
        "Step 6: Estimate an AR(1) model for squared $y_t$"
      ]
    },
    {
      "cell_type": "code",
      "metadata": {
        "id": "TRg6Pm_3_B3f",
        "colab": {
          "base_uri": "https://localhost:8080/"
        },
        "outputId": "a8ac55c4-6be5-4825-b336-4262fd338f60"
      },
      "source": [
        "result_ar1 = ARIMA(usdaud['y_t_2'], order=(1,0,0)).fit()\n",
        "print(result_ar1.summary())"
      ],
      "execution_count": null,
      "outputs": [
        {
          "output_type": "stream",
          "text": [
            "                               SARIMAX Results                                \n",
            "==============================================================================\n",
            "Dep. Variable:                  y_t_2   No. Observations:                 1382\n",
            "Model:                 ARIMA(1, 0, 0)   Log Likelihood               10919.500\n",
            "Date:                Fri, 30 Apr 2021   AIC                         -21833.000\n",
            "Time:                        23:56:50   BIC                         -21817.307\n",
            "Sample:                    01-02-2001   HQIC                        -21827.130\n",
            "                         - 10-14-2004                                         \n",
            "Covariance Type:                  opg                                         \n",
            "==============================================================================\n",
            "                 coef    std err          z      P>|z|      [0.025      0.975]\n",
            "------------------------------------------------------------------------------\n",
            "const       4.898e-05   3.99e-06     12.285      0.000    4.12e-05    5.68e-05\n",
            "ar.L1          0.0592   1.27e-10   4.67e+08      0.000       0.059       0.059\n",
            "sigma2      7.938e-09   1.04e-10     75.976      0.000    7.73e-09    8.14e-09\n",
            "===================================================================================\n",
            "Ljung-Box (L1) (Q):                   0.00   Jarque-Bera (JB):            107057.32\n",
            "Prob(Q):                              0.97   Prob(JB):                         0.00\n",
            "Heteroskedasticity (H):               0.64   Skew:                             5.10\n",
            "Prob(H) (two-sided):                  0.00   Kurtosis:                        44.90\n",
            "===================================================================================\n",
            "\n",
            "Warnings:\n",
            "[1] Covariance matrix calculated using the outer product of gradients (complex-step).\n",
            "[2] Covariance matrix is singular or near-singular, with condition number 2.85e+24. Standard errors may be unstable.\n"
          ],
          "name": "stdout"
        },
        {
          "output_type": "stream",
          "text": [
            "/usr/local/lib/python3.7/dist-packages/statsmodels/base/model.py:568: ConvergenceWarning: Maximum Likelihood optimization failed to converge. Check mle_retvals\n",
            "  ConvergenceWarning)\n"
          ],
          "name": "stderr"
        }
      ]
    },
    {
      "cell_type": "markdown",
      "metadata": {
        "id": "HjTI8W-Ca5qt"
      },
      "source": [
        "Step 7: Estimate an ARCH(1) model and a GARCH(1,1) model for\n",
        "$$\n",
        "\\begin{aligned}\n",
        "&y_t =\\mu+\\varepsilon_{t} \\\\\n",
        "&\\varepsilon_{t} \\mid \\Omega_{t-1} \\sim N\\left(0, \\sigma_{t}^{2}\\right)\n",
        "\\end{aligned}\n",
        "$$"
      ]
    },
    {
      "cell_type": "code",
      "metadata": {
        "id": "LSeTbdNA_A75",
        "colab": {
          "base_uri": "https://localhost:8080/"
        },
        "outputId": "035261ba-4be8-4519-8676-939108d18b95"
      },
      "source": [
        "result_arch1 = arch_model(usdaud['y_t'].dropna(), vol='Garch', p=1, q=0, dist='Normal').fit()\n",
        "print(result_arch1.summary())\n",
        "\n",
        "result_garch1 = arch_model(usdaud['y_t'].dropna(), vol='Garch', p=1, q=1, dist='Normal').fit()\n",
        "print(result_garch1.summary())"
      ],
      "execution_count": null,
      "outputs": [
        {
          "output_type": "stream",
          "text": [
            "Iteration:      1,   Func. Count:      5,   Neg. LLF: -4789.607052252159\n",
            "Iteration:      2,   Func. Count:     18,   Neg. LLF: -4791.300838261624\n",
            "Iteration:      3,   Func. Count:     31,   Neg. LLF: -4791.30087819885\n",
            "Optimization terminated successfully.    (Exit mode 0)\n",
            "            Current function value: -4791.300876284174\n",
            "            Iterations: 7\n",
            "            Function evaluations: 31\n",
            "            Gradient evaluations: 3\n",
            "                      Constant Mean - ARCH Model Results                      \n",
            "==============================================================================\n",
            "Dep. Variable:                    y_t   R-squared:                       0.000\n",
            "Mean Model:             Constant Mean   Adj. R-squared:                  0.000\n",
            "Vol Model:                       ARCH   Log-Likelihood:                4791.30\n",
            "Distribution:                  Normal   AIC:                          -9576.60\n",
            "Method:            Maximum Likelihood   BIC:                          -9560.91\n",
            "                                        No. Observations:                 1381\n",
            "Date:                Fri, Apr 30 2021   Df Residuals:                     1380\n",
            "Time:                        23:56:50   Df Model:                            1\n",
            "                                 Mean Model                                 \n",
            "============================================================================\n",
            "                 coef    std err          t      P>|t|      95.0% Conf. Int.\n",
            "----------------------------------------------------------------------------\n",
            "mu         4.8601e-04  2.058e-04      2.362  1.818e-02 [8.271e-05,8.893e-04]\n",
            "                              Volatility Model                              \n",
            "============================================================================\n",
            "                 coef    std err          t      P>|t|      95.0% Conf. Int.\n",
            "----------------------------------------------------------------------------\n",
            "omega      2.4477e-05  2.130e-08   1148.912      0.000 [2.444e-05,2.452e-05]\n",
            "alpha[1]       0.2000  3.316e-02      6.031  1.632e-09     [  0.135,  0.265]\n",
            "============================================================================\n",
            "\n",
            "Covariance estimator: robust\n",
            "Iteration:      1,   Func. Count:      6,   Neg. LLF: -4926.365637423688\n",
            "Iteration:      2,   Func. Count:     20,   Neg. LLF: -4926.435959550828\n",
            "Optimization terminated successfully.    (Exit mode 0)\n",
            "            Current function value: -4926.435955432195\n",
            "            Iterations: 6\n",
            "            Function evaluations: 20\n",
            "            Gradient evaluations: 2\n",
            "                     Constant Mean - GARCH Model Results                      \n",
            "==============================================================================\n",
            "Dep. Variable:                    y_t   R-squared:                       0.000\n",
            "Mean Model:             Constant Mean   Adj. R-squared:                  0.000\n",
            "Vol Model:                      GARCH   Log-Likelihood:                4926.44\n",
            "Distribution:                  Normal   AIC:                          -9844.87\n",
            "Method:            Maximum Likelihood   BIC:                          -9823.95\n",
            "                                        No. Observations:                 1381\n",
            "Date:                Fri, Apr 30 2021   Df Residuals:                     1380\n",
            "Time:                        23:56:50   Df Model:                            1\n",
            "                                 Mean Model                                 \n",
            "============================================================================\n",
            "                 coef    std err          t      P>|t|      95.0% Conf. Int.\n",
            "----------------------------------------------------------------------------\n",
            "mu         2.7115e-04  4.428e-06     61.232      0.000 [2.625e-04,2.798e-04]\n",
            "                              Volatility Model                              \n",
            "============================================================================\n",
            "                 coef    std err          t      P>|t|      95.0% Conf. Int.\n",
            "----------------------------------------------------------------------------\n",
            "omega      9.7908e-07  5.110e-11  1.916e+04      0.000 [9.790e-07,9.792e-07]\n",
            "alpha[1]       0.0500  1.211e-02      4.129  3.645e-05 [2.627e-02,7.373e-02]\n",
            "beta[1]        0.9300  1.126e-02     82.621      0.000     [  0.908,  0.952]\n",
            "============================================================================\n",
            "\n",
            "Covariance estimator: robust\n"
          ],
          "name": "stdout"
        },
        {
          "output_type": "stream",
          "text": [
            "/usr/local/lib/python3.7/dist-packages/arch/univariate/base.py:317: DataScaleWarning: y is poorly scaled, which may affect convergence of the optimizer when\n",
            "estimating the model parameters. The scale of y is 4.895e-05. Parameter\n",
            "estimation work better when this value is between 1 and 1000. The recommended\n",
            "rescaling is 100 * y.\n",
            "\n",
            "This warning can be disabled by either rescaling y before initializing the\n",
            "model or by setting rescale=False.\n",
            "\n",
            "  data_scale_warning.format(orig_scale, rescale), DataScaleWarning\n",
            "/usr/local/lib/python3.7/dist-packages/arch/univariate/base.py:317: DataScaleWarning: y is poorly scaled, which may affect convergence of the optimizer when\n",
            "estimating the model parameters. The scale of y is 4.895e-05. Parameter\n",
            "estimation work better when this value is between 1 and 1000. The recommended\n",
            "rescaling is 100 * y.\n",
            "\n",
            "This warning can be disabled by either rescaling y before initializing the\n",
            "model or by setting rescale=False.\n",
            "\n",
            "  data_scale_warning.format(orig_scale, rescale), DataScaleWarning\n"
          ],
          "name": "stderr"
        }
      ]
    },
    {
      "cell_type": "markdown",
      "metadata": {
        "id": "NRt1241UsmT6"
      },
      "source": [
        "Step 8: Estimate an AR(1)-ARCH(1) model and an AR(1)-GARCH(1,1) model for\n",
        "$$\n",
        "\\begin{aligned}\n",
        "&y_t =\\mu+\\rho y_{t-1} + \\varepsilon_{t} \\\\\n",
        "&\\varepsilon_{t} \\mid \\Omega_{t-1} \\sim N\\left(0, \\sigma_{t}^{2}\\right)\n",
        "\\end{aligned}\n",
        "$$"
      ]
    },
    {
      "cell_type": "code",
      "metadata": {
        "id": "0gn0m7Uq_AEj",
        "colab": {
          "base_uri": "https://localhost:8080/"
        },
        "outputId": "3122b89d-e428-40c3-c818-80be14a129bb"
      },
      "source": [
        "# # arch model\n",
        "# result_arch5 = arch_model(stock['SP500'].dropna(), vol='Garch', p=5, q=0, dist='Normal').fit()\n",
        "\n",
        "# #garch model\n",
        "# result_garch = arch_model(stock['SP500'].dropna(), vol='Garch', p=1, q=1, dist='Normal').fit()\n",
        "\n",
        "#ar and garch\n",
        "result_ar_arch = arch_model(usdaud['y_t'].dropna(), mean='AR', lags = 1, vol='Garch', p=1, q=0, dist='Normal').fit()\n",
        "result_ar_garch = arch_model(usdaud['y_t'].dropna(), mean='AR', lags = 1, vol='Garch', p=1, q=1, dist='Normal').fit()\n",
        "print(result_ar_arch.summary())\n",
        "print(result_ar_garch.summary())"
      ],
      "execution_count": null,
      "outputs": [
        {
          "output_type": "stream",
          "text": [
            "Iteration:      1,   Func. Count:      6,   Neg. LLF: -4787.037508896044\n"
          ],
          "name": "stdout"
        },
        {
          "output_type": "stream",
          "text": [
            "/usr/local/lib/python3.7/dist-packages/arch/univariate/base.py:317: DataScaleWarning: y is poorly scaled, which may affect convergence of the optimizer when\n",
            "estimating the model parameters. The scale of y is 4.891e-05. Parameter\n",
            "estimation work better when this value is between 1 and 1000. The recommended\n",
            "rescaling is 100 * y.\n",
            "\n",
            "This warning can be disabled by either rescaling y before initializing the\n",
            "model or by setting rescale=False.\n",
            "\n",
            "  data_scale_warning.format(orig_scale, rescale), DataScaleWarning\n"
          ],
          "name": "stderr"
        },
        {
          "output_type": "stream",
          "text": [
            "Iteration:      2,   Func. Count:     20,   Neg. LLF: -4788.650447642451\n",
            "Iteration:      3,   Func. Count:     33,   Neg. LLF: -4788.650900016628\n",
            "Iteration:      4,   Func. Count:     49,   Neg. LLF: -4786.906950993203\n",
            "Iteration:      5,   Func. Count:     63,   Neg. LLF: -4788.647370133324\n",
            "Iteration:      6,   Func. Count:     77,   Neg. LLF: -4788.64905580851\n",
            "Iteration:      7,   Func. Count:     93,   Neg. LLF: -4787.332580283757\n",
            "Iteration:      8,   Func. Count:    109,   Neg. LLF: -4610.889764845022\n",
            "Iteration:      9,   Func. Count:    125,   Neg. LLF: -1906.042609448407\n",
            "Optimization terminated successfully.    (Exit mode 0)\n",
            "            Current function value: -1906.0425060533962\n",
            "            Iterations: 13\n",
            "            Function evaluations: 125\n",
            "            Gradient evaluations: 9\n",
            "Iteration:      1,   Func. Count:      7,   Neg. LLF: -4923.38196527427\n",
            "Iteration:      2,   Func. Count:     22,   Neg. LLF: -4923.447014838881\n",
            "Optimization terminated successfully.    (Exit mode 0)\n",
            "            Current function value: -4923.4470108055275\n",
            "            Iterations: 6\n",
            "            Function evaluations: 22\n",
            "            Gradient evaluations: 2\n",
            "                           AR - ARCH Model Results                            \n",
            "==============================================================================\n",
            "Dep. Variable:                    y_t   R-squared:                      -6.027\n",
            "Mean Model:                        AR   Adj. R-squared:                 -6.032\n",
            "Vol Model:                       ARCH   Log-Likelihood:                1906.04\n",
            "Distribution:                  Normal   AIC:                          -3804.09\n",
            "Method:            Maximum Likelihood   BIC:                          -3783.17\n",
            "                                        No. Observations:                 1380\n",
            "Date:                Fri, Apr 30 2021   Df Residuals:                     1378\n",
            "Time:                        23:56:50   Df Model:                            2\n",
            "                                  Mean Model                                  \n",
            "==============================================================================\n",
            "                 coef    std err          t      P>|t|        95.0% Conf. Int.\n",
            "------------------------------------------------------------------------------\n",
            "Const         -0.0170  2.878e-04    -59.014      0.000 [-1.755e-02,-1.642e-02]\n",
            "y_t[1]         0.0285  6.224e-02      0.458      0.647    [-9.347e-02,  0.151]\n",
            "                              Volatility Model                              \n",
            "============================================================================\n",
            "                 coef    std err          t      P>|t|      95.0% Conf. Int.\n",
            "----------------------------------------------------------------------------\n",
            "omega      2.4455e-05  5.438e-08    449.664      0.000 [2.435e-05,2.456e-05]\n",
            "alpha[1]       0.2000  2.742e-03     72.950      0.000     [  0.195,  0.205]\n",
            "============================================================================\n",
            "\n",
            "Covariance estimator: robust\n",
            "                           AR - GARCH Model Results                           \n",
            "==============================================================================\n",
            "Dep. Variable:                    y_t   R-squared:                       0.001\n",
            "Mean Model:                        AR   Adj. R-squared:                  0.000\n",
            "Vol Model:                      GARCH   Log-Likelihood:                4923.45\n",
            "Distribution:                  Normal   AIC:                          -9836.89\n",
            "Method:            Maximum Likelihood   BIC:                          -9810.74\n",
            "                                        No. Observations:                 1380\n",
            "Date:                Fri, Apr 30 2021   Df Residuals:                     1378\n",
            "Time:                        23:56:50   Df Model:                            2\n",
            "                                  Mean Model                                 \n",
            "=============================================================================\n",
            "                 coef    std err          t      P>|t|       95.0% Conf. Int.\n",
            "-----------------------------------------------------------------------------\n",
            "Const      2.5759e-04  1.858e-04      1.387      0.166 [-1.065e-04,6.217e-04]\n",
            "y_t[1]         0.0285  2.678e-02      1.064      0.287 [-2.399e-02,8.098e-02]\n",
            "                              Volatility Model                              \n",
            "============================================================================\n",
            "                 coef    std err          t      P>|t|      95.0% Conf. Int.\n",
            "----------------------------------------------------------------------------\n",
            "omega      9.7819e-07  2.168e-12  4.512e+05      0.000 [9.782e-07,9.782e-07]\n",
            "alpha[1]       0.0500  2.988e-04    167.336      0.000 [4.941e-02,5.059e-02]\n",
            "beta[1]        0.9300  3.203e-03    290.386      0.000     [  0.924,  0.936]\n",
            "============================================================================\n",
            "\n",
            "Covariance estimator: robust\n"
          ],
          "name": "stdout"
        },
        {
          "output_type": "stream",
          "text": [
            "/usr/local/lib/python3.7/dist-packages/arch/univariate/base.py:317: DataScaleWarning: y is poorly scaled, which may affect convergence of the optimizer when\n",
            "estimating the model parameters. The scale of y is 4.891e-05. Parameter\n",
            "estimation work better when this value is between 1 and 1000. The recommended\n",
            "rescaling is 100 * y.\n",
            "\n",
            "This warning can be disabled by either rescaling y before initializing the\n",
            "model or by setting rescale=False.\n",
            "\n",
            "  data_scale_warning.format(orig_scale, rescale), DataScaleWarning\n"
          ],
          "name": "stderr"
        }
      ]
    },
    {
      "cell_type": "markdown",
      "metadata": {
        "id": "KJ-J99m3s9nv"
      },
      "source": [
        "Step 9: Plot the estimated conditional variance of the best-fitting model among the ones considered"
      ]
    },
    {
      "cell_type": "code",
      "metadata": {
        "id": "DGddM8jK9_cs",
        "colab": {
          "base_uri": "https://localhost:8080/",
          "height": 297
        },
        "outputId": "6afb3597-e420-47ab-8751-d90b6279980e"
      },
      "source": [
        "# GARCHMODEL (1,1) best fit to the data\n",
        "\n",
        "plt.plot(result_garch1.conditional_volatility)\n",
        "plt.plot(result)\n",
        "ax = plt.gca()\n",
        "ax.tick_params(axis = 'x', rotation = 100)\n",
        "plt.show()"
      ],
      "execution_count": null,
      "outputs": [
        {
          "output_type": "display_data",
          "data": {
            "image/png": "[encoded data removed]",
            "text/plain": [
              "<Figure size 432x288 with 1 Axes>"
            ]
          },
          "metadata": {
            "tags": [],
            "needs_background": "light"
          }
        }
      ]
    }
  ]
}